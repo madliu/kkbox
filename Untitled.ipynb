{
 "cells": [
  {
   "cell_type": "code",
   "execution_count": 2,
   "metadata": {},
   "outputs": [
    {
     "data": {
      "image/png": "[encoded data removed]",
      "text/plain": [
       "<matplotlib.figure.Figure at 0x1124b10d0>"
      ]
     },
     "metadata": {},
     "output_type": "display_data"
    }
   ],
   "source": [
    "import numpy as n\n",
    "import matplotlib.pyplot as plt\n",
    "\n",
    "# Random gaussian data.\n",
    "Ntotal = 1000\n",
    "data = 0.05 * n.random.randn(Ntotal) + 0.5\n",
    "\n",
    "# This is  the colormap I'd like to use.\n",
    "cm = plt.cm.get_cmap('RdYlBu_r')\n",
    "\n",
    "# Plot histogram.\n",
    "n, bins, patches = plt.hist(data, 25, normed=1, color='green')\n",
    "bin_centers = 0.5 * (bins[:-1] + bins[1:])\n",
    "\n",
    "# scale values to interval [0,1]\n",
    "col = bin_centers - min(bin_centers)\n",
    "col /= max(col)\n",
    "\n",
    "for c, p in zip(col, patches):\n",
    "    plt.setp(p, 'facecolor', cm(c))\n",
    "\n",
    "plt.show()"
   ]
  },
  {
   "cell_type": "code",
   "execution_count": 45,
   "metadata": {},
   "outputs": [
    {
     "data": {
      "text/plain": [
       "Index([u'msno', u'city', u'bd', u'gender', u'registered_via',\n",
       "       u'registration_init_time'],\n",
       "      dtype='object')"
      ]
     },
     "execution_count": 45,
     "metadata": {},
     "output_type": "execute_result"
    }
   ],
   "source": [
    "members.columns"
   ]
  },
  {
   "cell_type": "code",
   "execution_count": 50,
   "metadata": {},
   "outputs": [],
   "source": [
    "import pandas as pd\n",
    "path= \"../../Downloads/Predict_churn/\"\n",
    "members = pd.read_csv(path+\"members_v2.csv\")\n",
    "trainset = pd.read_csv(path+\"train_v2.csv\")\n",
    "\n",
    "memberstrain = pd.merge(members, trainset, how='left', on=\"msno\")"
   ]
  },
  {
   "cell_type": "code",
   "execution_count": 39,
   "metadata": {},
   "outputs": [
    {
     "name": "stdout",
     "output_type": "stream",
     "text": [
      "[  1.42   2.26   3.1    3.94   4.78   5.62   6.46   7.3    8.14   8.98\n",
      "   9.82  10.66  11.5   12.34  13.18  14.02  14.86  15.7   16.54  17.38\n",
      "  18.22  19.06  19.9   20.74  21.58]\n",
      "[  0.     0.84   1.68   2.52   3.36   4.2    5.04   5.88   6.72   7.56\n",
      "   8.4    9.24  10.08  10.92  11.76  12.6   13.44  14.28  15.12  15.96\n",
      "  16.8   17.64  18.48  19.32  20.16]\n"
     ]
    },
    {
     "data": {
      "image/png": "[encoded data removed]",
      "text/plain": [
       "<matplotlib.figure.Figure at 0x1126e9250>"
      ]
     },
     "metadata": {},
     "output_type": "display_data"
    }
   ],
   "source": [
    "cm = plt.cm.get_cmap('RdYlBu_r')\n",
    "\n",
    "n, bins, patches = plt.hist(np.array(members[\"city\"]), 25, normed=1, color='green')\n",
    "\n",
    "bin_centers = 0.5 * (bins[:-1] + bins[1:])\n",
    "\n",
    "print bin_centers\n",
    "col = bin_centers - min(bin_centers)\n",
    "print col\n",
    "#col /= max(col)\n",
    "\n",
    "#for c, p in zip(col, patches):\n",
    "#    plt.setp(p, 'facecolor', cm(c))\n",
    "\n",
    "plt.show()"
   ]
  },
  {
   "cell_type": "code",
   "execution_count": 49,
   "metadata": {},
   "outputs": [
    {
     "data": {
      "image/png": "[encoded data removed]",
      "text/plain": [
       "<matplotlib.figure.Figure at 0x1162db050>"
      ]
     },
     "metadata": {},
     "output_type": "display_data"
    }
   ],
   "source": [
    "import numpy as n\n",
    "import matplotlib.pyplot as plt\n",
    "\n",
    "# Random gaussian data.\n",
    "Ntotal = 1000\n",
    "data = np.array(members[\"city\"])\n",
    "colors = np.array(members[\"bd\"])\n",
    "\n",
    "# This is  the colormap I'd like to use.\n",
    "cm = plt.cm.get_cmap('plasma')\n",
    "\n",
    "# Get the histogramp\n",
    "Y,X = n.histogram(data, 25, normed=1)\n",
    "#K,k = n.histogram(colors, 25, normed=1)\n",
    "x_span = X.max()-X.min()\n",
    "k_span = colors.max()-colors.min()\n",
    "\n",
    "C = [cm(((x-k.min())/k_span)) for x in colors]\n",
    "\n",
    "plt.bar(X[:-1],Y,color=C,width=X[1]-X[0])\n",
    "plt.show()"
   ]
  },
  {
   "cell_type": "code",
   "execution_count": 47,
   "metadata": {},
   "outputs": [
    {
     "data": {
      "text/plain": [
       "array([ 0, 32, 63, ...,  0, 26,  0])"
      ]
     },
     "execution_count": 47,
     "metadata": {},
     "output_type": "execute_result"
    }
   ],
   "source": [
    "colors"
   ]
  }
 ],
 "metadata": {
  "kernelspec": {
   "display_name": "Python 2",
   "language": "python",
   "name": "python2"
  },
  "language_info": {
   "codemirror_mode": {
    "name": "ipython",
    "version": 2
   },
   "file_extension": ".py",
   "mimetype": "text/x-python",
   "name": "python",
   "nbconvert_exporter": "python",
   "pygments_lexer": "ipython2",
   "version": "2.7.13"
  }
 },
 "nbformat": 4,
 "nbformat_minor": 2
}
