{
 "cells": [
  {
   "cell_type": "code",
   "execution_count": 189,
   "metadata": {},
   "outputs": [],
   "source": [
    "%matplotlib inline\n",
    "import pandas as pd\n",
    "import matplotlib.pyplot as plt\n",
    "import numpy as np\n",
    "from sklearn.model_selection import train_test_split\n",
    "from sklearn import preprocessing"
   ]
  },
  {
   "cell_type": "markdown",
   "metadata": {},
   "source": [
    "## Getting the data "
   ]
  },
  {
   "cell_type": "code",
   "execution_count": 173,
   "metadata": {},
   "outputs": [],
   "source": [
    "trainset = pd.read_csv(\"../../Downloads/Predict_churn/train_v2.csv\")"
   ]
  },
  {
   "cell_type": "code",
   "execution_count": 174,
   "metadata": {
    "collapsed": true
   },
   "outputs": [],
   "source": [
    "members = pd.read_csv(\"../../Downloads/Predict_churn/members_v2.csv\")"
   ]
  },
  {
   "cell_type": "code",
   "execution_count": 175,
   "metadata": {
    "collapsed": true
   },
   "outputs": [],
   "source": [
    "samplesubmission = pd.read_csv(\"../../Downloads/Predict_churn/sample_submission_v2.csv\")"
   ]
  },
  {
   "cell_type": "markdown",
   "metadata": {},
   "source": [
    "## Basic info"
   ]
  },
  {
   "cell_type": "code",
   "execution_count": 176,
   "metadata": {},
   "outputs": [
    {
     "name": "stdout",
     "output_type": "stream",
     "text": [
      "<class 'pandas.core.frame.DataFrame'>\n",
      "RangeIndex: 970960 entries, 0 to 970959\n",
      "Data columns (total 2 columns):\n",
      "msno        970960 non-null object\n",
      "is_churn    970960 non-null int64\n",
      "dtypes: int64(1), object(1)\n",
      "memory usage: 14.8+ MB\n"
     ]
    }
   ],
   "source": [
    "trainset.info()"
   ]
  },
  {
   "cell_type": "code",
   "execution_count": 177,
   "metadata": {},
   "outputs": [
    {
     "name": "stdout",
     "output_type": "stream",
     "text": [
      "<class 'pandas.core.frame.DataFrame'>\n",
      "RangeIndex: 795090 entries, 0 to 795089\n",
      "Data columns (total 6 columns):\n",
      "msno                      795090 non-null object\n",
      "city                      795090 non-null int64\n",
      "bd                        795090 non-null int64\n",
      "gender                    318249 non-null object\n",
      "registered_via            795090 non-null int64\n",
      "registration_init_time    795090 non-null int64\n",
      "dtypes: int64(4), object(2)\n",
      "memory usage: 36.4+ MB\n"
     ]
    }
   ],
   "source": [
    "members.info()"
   ]
  },
  {
   "cell_type": "code",
   "execution_count": 178,
   "metadata": {},
   "outputs": [
    {
     "data": {
      "text/plain": [
       "7     475062\n",
       "9     182871\n",
       "3      86021\n",
       "4      47686\n",
       "13      3450\n",
       "Name: registered_via, dtype: int64"
      ]
     },
     "execution_count": 178,
     "metadata": {},
     "output_type": "execute_result"
    }
   ],
   "source": [
    "members[\"registered_via\"].value_counts()"
   ]
  },
  {
   "cell_type": "code",
   "execution_count": 179,
   "metadata": {},
   "outputs": [
    {
     "data": {
      "text/plain": [
       "1     456706\n",
       "13     78447\n",
       "5      60295\n",
       "4      40421\n",
       "22     33051\n",
       "15     31354\n",
       "6      20500\n",
       "14     15830\n",
       "12      9891\n",
       "9       7645\n",
       "8       6426\n",
       "11      6317\n",
       "18      6204\n",
       "10      5257\n",
       "21      4467\n",
       "3       4338\n",
       "17      4299\n",
       "7       2049\n",
       "16       835\n",
       "20       629\n",
       "19       129\n",
       "Name: city, dtype: int64"
      ]
     },
     "execution_count": 179,
     "metadata": {},
     "output_type": "execute_result"
    }
   ],
   "source": [
    "members[\"city\"].value_counts()"
   ]
  },
  {
   "cell_type": "markdown",
   "metadata": {},
   "source": [
    "# Cleaning features"
   ]
  },
  {
   "cell_type": "code",
   "execution_count": 181,
   "metadata": {},
   "outputs": [],
   "source": [
    "# Age between 10 - 90\n",
    "members[\"bd\"].where(members[\"bd\"] > 10, 0, inplace=True)\n",
    "members[\"bd\"].where(members[\"bd\"] < 90, 0, inplace=True)\n",
    "\n",
    "# 0 values to Nan?"
   ]
  },
  {
   "cell_type": "code",
   "execution_count": null,
   "metadata": {
    "collapsed": true
   },
   "outputs": [],
   "source": [
    "# City - 1 seems to be the default that people select"
   ]
  },
  {
   "cell_type": "code",
   "execution_count": 185,
   "metadata": {},
   "outputs": [],
   "source": [
    "# Parsing dates\n",
    "members[\"registration_init_time\"] = pd.to_datetime(members[\"registration_init_time\"], format='%Y%m%d', errors='ignore')"
   ]
  },
  {
   "cell_type": "code",
   "execution_count": 195,
   "metadata": {},
   "outputs": [],
   "source": [
    "# Making gender labels\n",
    "le = preprocessing.LabelEncoder()\n",
    "le.fit(members[\"gender\"])\n",
    "members[\"gender\"]=le.transform(members[\"gender\"])"
   ]
  },
  {
   "cell_type": "code",
   "execution_count": 193,
   "metadata": {},
   "outputs": [
    {
     "data": {
      "text/html": [
       "<div>\n",
       "<style>\n",
       "    .dataframe thead tr:only-child th {\n",
       "        text-align: right;\n",
       "    }\n",
       "\n",
       "    .dataframe thead th {\n",
       "        text-align: left;\n",
       "    }\n",
       "\n",
       "    .dataframe tbody tr th {\n",
       "        vertical-align: top;\n",
       "    }\n",
       "</style>\n",
       "<table border=\"1\" class=\"dataframe\">\n",
       "  <thead>\n",
       "    <tr style=\"text-align: right;\">\n",
       "      <th></th>\n",
       "      <th>msno</th>\n",
       "      <th>city</th>\n",
       "      <th>bd</th>\n",
       "      <th>gender</th>\n",
       "      <th>registered_via</th>\n",
       "      <th>registration_init_time</th>\n",
       "      <th>duration_of_membership</th>\n",
       "      <th>gender2</th>\n",
       "    </tr>\n",
       "  </thead>\n",
       "  <tbody>\n",
       "    <tr>\n",
       "      <th>0</th>\n",
       "      <td>+tJonkh+O1CA796Fm5X60UMOtB6POHAwPjbTRVl/EuU=</td>\n",
       "      <td>1</td>\n",
       "      <td>0</td>\n",
       "      <td>NaN</td>\n",
       "      <td>7</td>\n",
       "      <td>2011-09-14</td>\n",
       "      <td>15230 days 23:59:59.999997</td>\n",
       "      <td>0</td>\n",
       "    </tr>\n",
       "    <tr>\n",
       "      <th>1</th>\n",
       "      <td>WFLY3s7z4EZsieHCt63XrsdtfTEmJ+2PnnKLH5GY4Tk=</td>\n",
       "      <td>6</td>\n",
       "      <td>32</td>\n",
       "      <td>female</td>\n",
       "      <td>9</td>\n",
       "      <td>2011-09-15</td>\n",
       "      <td>15231 days 23:59:59.999997</td>\n",
       "      <td>1</td>\n",
       "    </tr>\n",
       "    <tr>\n",
       "      <th>2</th>\n",
       "      <td>I0yFvqMoNkM8ZNHb617e1RBzIS/YRKemHO7Wj13EtA0=</td>\n",
       "      <td>13</td>\n",
       "      <td>63</td>\n",
       "      <td>male</td>\n",
       "      <td>9</td>\n",
       "      <td>2011-09-18</td>\n",
       "      <td>15234 days 23:59:59.999997</td>\n",
       "      <td>2</td>\n",
       "    </tr>\n",
       "    <tr>\n",
       "      <th>3</th>\n",
       "      <td>OoDwiKZM+ZGr9P3fRivavgOtglTEaNfWJO4KaJcTTts=</td>\n",
       "      <td>1</td>\n",
       "      <td>0</td>\n",
       "      <td>NaN</td>\n",
       "      <td>7</td>\n",
       "      <td>2011-09-18</td>\n",
       "      <td>15234 days 23:59:59.999997</td>\n",
       "      <td>0</td>\n",
       "    </tr>\n",
       "    <tr>\n",
       "      <th>4</th>\n",
       "      <td>4De1jAxNRABoyRBDZ82U0yEmzYkqeOugRGVNIf92Xb8=</td>\n",
       "      <td>4</td>\n",
       "      <td>28</td>\n",
       "      <td>female</td>\n",
       "      <td>9</td>\n",
       "      <td>2011-09-20</td>\n",
       "      <td>15236 days 23:59:59.999997</td>\n",
       "      <td>1</td>\n",
       "    </tr>\n",
       "  </tbody>\n",
       "</table>\n",
       "</div>"
      ],
      "text/plain": [
       "                                           msno  city  bd  gender  \\\n",
       "0  +tJonkh+O1CA796Fm5X60UMOtB6POHAwPjbTRVl/EuU=     1   0     NaN   \n",
       "1  WFLY3s7z4EZsieHCt63XrsdtfTEmJ+2PnnKLH5GY4Tk=     6  32  female   \n",
       "2  I0yFvqMoNkM8ZNHb617e1RBzIS/YRKemHO7Wj13EtA0=    13  63    male   \n",
       "3  OoDwiKZM+ZGr9P3fRivavgOtglTEaNfWJO4KaJcTTts=     1   0     NaN   \n",
       "4  4De1jAxNRABoyRBDZ82U0yEmzYkqeOugRGVNIf92Xb8=     4  28  female   \n",
       "\n",
       "   registered_via registration_init_time     duration_of_membership  gender2  \n",
       "0               7             2011-09-14 15230 days 23:59:59.999997        0  \n",
       "1               9             2011-09-15 15231 days 23:59:59.999997        1  \n",
       "2               9             2011-09-18 15234 days 23:59:59.999997        2  \n",
       "3               7             2011-09-18 15234 days 23:59:59.999997        0  \n",
       "4               9             2011-09-20 15236 days 23:59:59.999997        1  "
      ]
     },
     "execution_count": 193,
     "metadata": {},
     "output_type": "execute_result"
    }
   ],
   "source": [
    "members.head()"
   ]
  },
  {
   "cell_type": "code",
   "execution_count": 196,
   "metadata": {},
   "outputs": [
    {
     "data": {
      "image/png": "[encoded data removed]",
      "text/plain": [
       "<matplotlib.figure.Figure at 0x10f9cec90>"
      ]
     },
     "metadata": {},
     "output_type": "display_data"
    }
   ],
   "source": [
    "members.hist(bins=50, figsize=(20,15))\n",
    "plt.show()"
   ]
  },
  {
   "cell_type": "code",
   "execution_count": 162,
   "metadata": {},
   "outputs": [],
   "source": [
    "from collections import defaultdict\n",
    "\n",
    "s=members[\"registration_init_time\"]\n",
    "d = defaultdict(int)\n",
    "\n",
    "for k in s: \n",
    "    d[k] += 1\n",
    "    \n",
    "counts = d.items()"
   ]
  },
  {
   "cell_type": "code",
   "execution_count": 166,
   "metadata": {},
   "outputs": [
    {
     "data": {
      "text/plain": [
       "<matplotlib.axes._subplots.AxesSubplot at 0x13b499350>"
      ]
     },
     "execution_count": 166,
     "metadata": {},
     "output_type": "execute_result"
    },
    {
     "data": {
      "image/png": "[encoded data removed]",
      "text/plain": [
       "<matplotlib.figure.Figure at 0x138425f90>"
      ]
     },
     "metadata": {},
     "output_type": "display_data"
    }
   ],
   "source": [
    "members[\"registration_init_time\"].groupby([members[\"registration_init_time\"].dt.year, members[\"registration_init_time\"].dt.month]).count().plot(kind=\"bar\")"
   ]
  },
  {
   "cell_type": "markdown",
   "metadata": {},
   "source": [
    "# Creating new features"
   ]
  },
  {
   "cell_type": "code",
   "execution_count": 187,
   "metadata": {},
   "outputs": [],
   "source": [
    "members[\"duration_of_membership\"] = members[\"registration_init_time\"]-pd.to_datetime(2017-04-01)"
   ]
  },
  {
   "cell_type": "markdown",
   "metadata": {},
   "source": [
    "## Test filling sample submission with the churn numbers we have "
   ]
  },
  {
   "cell_type": "code",
   "execution_count": 67,
   "metadata": {},
   "outputs": [],
   "source": [
    "submission1 = pd.merge(samplesubmission, trainset, how='left', on=\"msno\")"
   ]
  },
  {
   "cell_type": "code",
   "execution_count": 70,
   "metadata": {},
   "outputs": [],
   "source": [
    "submission1=submission1[[\"msno\", \"is_churn_y\"]]\n",
    "submission1.columns=['msno', 'is_churn']"
   ]
  },
  {
   "cell_type": "code",
   "execution_count": 71,
   "metadata": {},
   "outputs": [
    {
     "data": {
      "text/html": [
       "<div>\n",
       "<style>\n",
       "    .dataframe thead tr:only-child th {\n",
       "        text-align: right;\n",
       "    }\n",
       "\n",
       "    .dataframe thead th {\n",
       "        text-align: left;\n",
       "    }\n",
       "\n",
       "    .dataframe tbody tr th {\n",
       "        vertical-align: top;\n",
       "    }\n",
       "</style>\n",
       "<table border=\"1\" class=\"dataframe\">\n",
       "  <thead>\n",
       "    <tr style=\"text-align: right;\">\n",
       "      <th></th>\n",
       "      <th>msno</th>\n",
       "      <th>is_churn</th>\n",
       "    </tr>\n",
       "  </thead>\n",
       "  <tbody>\n",
       "    <tr>\n",
       "      <th>0</th>\n",
       "      <td>4n+fXlyJvfQnTeKXTWT507Ll4JVYGrOC8LHCfwBmPE4=</td>\n",
       "      <td>0.0</td>\n",
       "    </tr>\n",
       "    <tr>\n",
       "      <th>1</th>\n",
       "      <td>aNmbC1GvFUxQyQUidCVmfbQ0YeCuwkPzEdQ0RwWyeZM=</td>\n",
       "      <td>0.0</td>\n",
       "    </tr>\n",
       "    <tr>\n",
       "      <th>2</th>\n",
       "      <td>rFC9eSG/tMuzpre6cwcMLZHEYM89xY02qcz7HL4//jc=</td>\n",
       "      <td>0.0</td>\n",
       "    </tr>\n",
       "    <tr>\n",
       "      <th>3</th>\n",
       "      <td>WZ59dLyrQcE7ft06MZ5dj40BnlYQY7PHgg/54+HaCSE=</td>\n",
       "      <td>0.0</td>\n",
       "    </tr>\n",
       "    <tr>\n",
       "      <th>4</th>\n",
       "      <td>aky/Iv8hMp1/V/yQHLtaVuEmmAxkB5GuasQZePJ7NU4=</td>\n",
       "      <td>0.0</td>\n",
       "    </tr>\n",
       "  </tbody>\n",
       "</table>\n",
       "</div>"
      ],
      "text/plain": [
       "                                           msno  is_churn\n",
       "0  4n+fXlyJvfQnTeKXTWT507Ll4JVYGrOC8LHCfwBmPE4=       0.0\n",
       "1  aNmbC1GvFUxQyQUidCVmfbQ0YeCuwkPzEdQ0RwWyeZM=       0.0\n",
       "2  rFC9eSG/tMuzpre6cwcMLZHEYM89xY02qcz7HL4//jc=       0.0\n",
       "3  WZ59dLyrQcE7ft06MZ5dj40BnlYQY7PHgg/54+HaCSE=       0.0\n",
       "4  aky/Iv8hMp1/V/yQHLtaVuEmmAxkB5GuasQZePJ7NU4=       0.0"
      ]
     },
     "execution_count": 71,
     "metadata": {},
     "output_type": "execute_result"
    }
   ],
   "source": [
    "submission1= submission1.fillna(0)\n",
    "submission1.head()"
   ]
  },
  {
   "cell_type": "code",
   "execution_count": 75,
   "metadata": {},
   "outputs": [],
   "source": [
    "submission1.to_csv(\"../../Downloads/Predict_churn/submission1.csv\", header=True, index=False)"
   ]
  },
  {
   "cell_type": "markdown",
   "metadata": {},
   "source": [
    "# Creating training data"
   ]
  },
  {
   "cell_type": "code",
   "execution_count": 92,
   "metadata": {},
   "outputs": [],
   "source": [
    "members_train = pd.merge(trainset, members, how='inner', on=\"msno\")\n",
    "\n",
    "train_set, val_set = train_test_split(members_train, test_size=0.2, random_state=42)"
   ]
  }
 ],
 "metadata": {
  "kernelspec": {
   "display_name": "Python 2",
   "language": "python",
   "name": "python2"
  },
  "language_info": {
   "codemirror_mode": {
    "name": "ipython",
    "version": 2
   },
   "file_extension": ".py",
   "mimetype": "text/x-python",
   "name": "python",
   "nbconvert_exporter": "python",
   "pygments_lexer": "ipython2",
   "version": "2.7.13"
  }
 },
 "nbformat": 4,
 "nbformat_minor": 2
}
