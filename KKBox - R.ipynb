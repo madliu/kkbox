{
 "cells": [
  {
   "cell_type": "code",
   "execution_count": 32,
   "metadata": {},
   "outputs": [
    {
     "ename": "ERROR",
     "evalue": "Error in library(gclus): there is no package called ‘gclus’\n",
     "output_type": "error",
     "traceback": [
      "Error in library(gclus): there is no package called ‘gclus’\nTraceback:\n",
      "1. library(gclus)",
      "2. stop(txt, domain = NA)"
     ]
    }
   ],
   "source": [
    "#library(gclus)\n",
    "library(car)\n",
    "\n",
    "library(dplyr)"
   ]
  },
  {
   "cell_type": "code",
   "execution_count": 7,
   "metadata": {},
   "outputs": [],
   "source": [
    "trainset <- read.csv(\"../Downloads/Predict_churn/train.csv\")"
   ]
  },
  {
   "cell_type": "code",
   "execution_count": 8,
   "metadata": {
    "collapsed": true
   },
   "outputs": [],
   "source": [
    "members <- read.csv(\"../Downloads/Predict_churn/members.csv\")"
   ]
  },
  {
   "cell_type": "code",
   "execution_count": 9,
   "metadata": {
    "collapsed": true
   },
   "outputs": [],
   "source": [
    "sample_submission <- read.csv(\"../Downloads/Predict_churn/sample_submission_zero.csv\")"
   ]
  },
  {
   "cell_type": "code",
   "execution_count": 10,
   "metadata": {
    "collapsed": true
   },
   "outputs": [],
   "source": [
    "transactions <- read.csv(\"../Downloads/Predict_churn/transactions.csv\")"
   ]
  },
  {
   "cell_type": "code",
   "execution_count": 12,
   "metadata": {},
   "outputs": [
    {
     "data": {
      "text/html": [
       "<table>\n",
       "<thead><tr><th scope=col>msno</th><th scope=col>is_churn</th></tr></thead>\n",
       "<tbody>\n",
       "\t<tr><td>waLDQMmcOu2jLDaV1ddDkgCrB/jl6sD66Xzs0Vqax1Y=</td><td>1                                           </td></tr>\n",
       "\t<tr><td>QA7uiXy8vIbUSPOkCf9RwQ3FsT8jVq2OxDr8zqa7bRQ=</td><td>1                                           </td></tr>\n",
       "\t<tr><td>fGwBva6hikQmTJzrbz/2Ezjm5Cth5jZUNvXigKK2AFA=</td><td>1                                           </td></tr>\n",
       "\t<tr><td>mT5V8rEpa+8wuqi6x0DoVd3H5icMKkE9Prt49UlmK+4=</td><td>1                                           </td></tr>\n",
       "\t<tr><td>XaPhtGLk/5UvvOYHcONTwsnH97P4eGECeq+BARGItRw=</td><td>1                                           </td></tr>\n",
       "</tbody>\n",
       "</table>\n"
      ],
      "text/latex": [
       "\\begin{tabular}{r|ll}\n",
       " msno & is\\_churn\\\\\n",
       "\\hline\n",
       "\t waLDQMmcOu2jLDaV1ddDkgCrB/jl6sD66Xzs0Vqax1Y= & 1                                           \\\\\n",
       "\t QA7uiXy8vIbUSPOkCf9RwQ3FsT8jVq2OxDr8zqa7bRQ= & 1                                           \\\\\n",
       "\t fGwBva6hikQmTJzrbz/2Ezjm5Cth5jZUNvXigKK2AFA= & 1                                           \\\\\n",
       "\t mT5V8rEpa+8wuqi6x0DoVd3H5icMKkE9Prt49UlmK+4= & 1                                           \\\\\n",
       "\t XaPhtGLk/5UvvOYHcONTwsnH97P4eGECeq+BARGItRw= & 1                                           \\\\\n",
       "\\end{tabular}\n"
      ],
      "text/markdown": [
       "\n",
       "msno | is_churn | \n",
       "|---|---|---|---|---|\n",
       "| waLDQMmcOu2jLDaV1ddDkgCrB/jl6sD66Xzs0Vqax1Y= | 1                                            | \n",
       "| QA7uiXy8vIbUSPOkCf9RwQ3FsT8jVq2OxDr8zqa7bRQ= | 1                                            | \n",
       "| fGwBva6hikQmTJzrbz/2Ezjm5Cth5jZUNvXigKK2AFA= | 1                                            | \n",
       "| mT5V8rEpa+8wuqi6x0DoVd3H5icMKkE9Prt49UlmK+4= | 1                                            | \n",
       "| XaPhtGLk/5UvvOYHcONTwsnH97P4eGECeq+BARGItRw= | 1                                            | \n",
       "\n",
       "\n"
      ],
      "text/plain": [
       "  msno                                         is_churn\n",
       "1 waLDQMmcOu2jLDaV1ddDkgCrB/jl6sD66Xzs0Vqax1Y= 1       \n",
       "2 QA7uiXy8vIbUSPOkCf9RwQ3FsT8jVq2OxDr8zqa7bRQ= 1       \n",
       "3 fGwBva6hikQmTJzrbz/2Ezjm5Cth5jZUNvXigKK2AFA= 1       \n",
       "4 mT5V8rEpa+8wuqi6x0DoVd3H5icMKkE9Prt49UlmK+4= 1       \n",
       "5 XaPhtGLk/5UvvOYHcONTwsnH97P4eGECeq+BARGItRw= 1       "
      ]
     },
     "metadata": {},
     "output_type": "display_data"
    }
   ],
   "source": [
    "trainset[1:5,]"
   ]
  },
  {
   "cell_type": "code",
   "execution_count": 13,
   "metadata": {},
   "outputs": [
    {
     "data": {
      "text/html": [
       "<table>\n",
       "<thead><tr><th scope=col>msno</th><th scope=col>city</th><th scope=col>bd</th><th scope=col>gender</th><th scope=col>registered_via</th><th scope=col>registration_init_time</th><th scope=col>expiration_date</th></tr></thead>\n",
       "<tbody>\n",
       "\t<tr><td>URiXrfYPzHAlk+7+n7BOMl9G+T7g8JmrSnT/BU8GmEo=</td><td>1                                           </td><td> 0                                          </td><td>                                            </td><td>9                                           </td><td>20150525                                    </td><td>20150526                                    </td></tr>\n",
       "\t<tr><td>U1q0qCqK/lDMTD2kN8G9OXMtfuvLCey20OAIPOvXXGQ=</td><td>1                                           </td><td> 0                                          </td><td>                                            </td><td>4                                           </td><td>20161221                                    </td><td>20161224                                    </td></tr>\n",
       "\t<tr><td>W6M2H2kAoN9ahfDYKo3J6tmsJRAeuFc9wl1cau5VL1Q=</td><td>1                                           </td><td> 0                                          </td><td>                                            </td><td>4                                           </td><td>20160306                                    </td><td>20160309                                    </td></tr>\n",
       "\t<tr><td>1qE5+cN7CUyC+KFH6gBZzMWmM1QpIVW6A43BEm98I/w=</td><td>5                                           </td><td>17                                          </td><td>female                                      </td><td>4                                           </td><td>20161031                                    </td><td>20161107                                    </td></tr>\n",
       "\t<tr><td>SeAnaZPI+tFdAt+r3lZt/B8PgTp7bcG/1os39u4pLxs=</td><td>1                                           </td><td> 0                                          </td><td>                                            </td><td>4                                           </td><td>20170202                                    </td><td>20170205                                    </td></tr>\n",
       "</tbody>\n",
       "</table>\n"
      ],
      "text/latex": [
       "\\begin{tabular}{r|lllllll}\n",
       " msno & city & bd & gender & registered\\_via & registration\\_init\\_time & expiration\\_date\\\\\n",
       "\\hline\n",
       "\t URiXrfYPzHAlk+7+n7BOMl9G+T7g8JmrSnT/BU8GmEo= & 1                                            &  0                                           &                                              & 9                                            & 20150525                                     & 20150526                                    \\\\\n",
       "\t U1q0qCqK/lDMTD2kN8G9OXMtfuvLCey20OAIPOvXXGQ= & 1                                            &  0                                           &                                              & 4                                            & 20161221                                     & 20161224                                    \\\\\n",
       "\t W6M2H2kAoN9ahfDYKo3J6tmsJRAeuFc9wl1cau5VL1Q= & 1                                            &  0                                           &                                              & 4                                            & 20160306                                     & 20160309                                    \\\\\n",
       "\t 1qE5+cN7CUyC+KFH6gBZzMWmM1QpIVW6A43BEm98I/w= & 5                                            & 17                                           & female                                       & 4                                            & 20161031                                     & 20161107                                    \\\\\n",
       "\t SeAnaZPI+tFdAt+r3lZt/B8PgTp7bcG/1os39u4pLxs= & 1                                            &  0                                           &                                              & 4                                            & 20170202                                     & 20170205                                    \\\\\n",
       "\\end{tabular}\n"
      ],
      "text/markdown": [
       "\n",
       "msno | city | bd | gender | registered_via | registration_init_time | expiration_date | \n",
       "|---|---|---|---|---|\n",
       "| URiXrfYPzHAlk+7+n7BOMl9G+T7g8JmrSnT/BU8GmEo= | 1                                            |  0                                           |                                              | 9                                            | 20150525                                     | 20150526                                     | \n",
       "| U1q0qCqK/lDMTD2kN8G9OXMtfuvLCey20OAIPOvXXGQ= | 1                                            |  0                                           |                                              | 4                                            | 20161221                                     | 20161224                                     | \n",
       "| W6M2H2kAoN9ahfDYKo3J6tmsJRAeuFc9wl1cau5VL1Q= | 1                                            |  0                                           |                                              | 4                                            | 20160306                                     | 20160309                                     | \n",
       "| 1qE5+cN7CUyC+KFH6gBZzMWmM1QpIVW6A43BEm98I/w= | 5                                            | 17                                           | female                                       | 4                                            | 20161031                                     | 20161107                                     | \n",
       "| SeAnaZPI+tFdAt+r3lZt/B8PgTp7bcG/1os39u4pLxs= | 1                                            |  0                                           |                                              | 4                                            | 20170202                                     | 20170205                                     | \n",
       "\n",
       "\n"
      ],
      "text/plain": [
       "  msno                                         city bd gender registered_via\n",
       "1 URiXrfYPzHAlk+7+n7BOMl9G+T7g8JmrSnT/BU8GmEo= 1     0        9             \n",
       "2 U1q0qCqK/lDMTD2kN8G9OXMtfuvLCey20OAIPOvXXGQ= 1     0        4             \n",
       "3 W6M2H2kAoN9ahfDYKo3J6tmsJRAeuFc9wl1cau5VL1Q= 1     0        4             \n",
       "4 1qE5+cN7CUyC+KFH6gBZzMWmM1QpIVW6A43BEm98I/w= 5    17 female 4             \n",
       "5 SeAnaZPI+tFdAt+r3lZt/B8PgTp7bcG/1os39u4pLxs= 1     0        4             \n",
       "  registration_init_time expiration_date\n",
       "1 20150525               20150526       \n",
       "2 20161221               20161224       \n",
       "3 20160306               20160309       \n",
       "4 20161031               20161107       \n",
       "5 20170202               20170205       "
      ]
     },
     "metadata": {},
     "output_type": "display_data"
    }
   ],
   "source": [
    "members[1:5,]"
   ]
  },
  {
   "cell_type": "code",
   "execution_count": 14,
   "metadata": {},
   "outputs": [
    {
     "data": {
      "text/html": [
       "<table>\n",
       "<thead><tr><th scope=col>msno</th><th scope=col>is_churn</th></tr></thead>\n",
       "<tbody>\n",
       "\t<tr><td>ugx0CjOMzazClkFzU2xasmDZaoIqOUAZPsH1q0teWCg=</td><td>0                                           </td></tr>\n",
       "\t<tr><td>f/NmvEzHfhINFEYZTR05prUdr+E+3+oewvweYz9cCQE=</td><td>0                                           </td></tr>\n",
       "\t<tr><td>zLo9f73nGGT1p21ltZC3ChiRnAVvgibMyazbCxvWPcg=</td><td>0                                           </td></tr>\n",
       "\t<tr><td>8iF/+8HY8lJKFrTc7iR9ZYGCG2Ecrogbc2Vy5YhsfhQ=</td><td>0                                           </td></tr>\n",
       "\t<tr><td>K6fja4+jmoZ5xG6BypqX80Uw/XKpMgrEMdG2edFOxnA=</td><td>0                                           </td></tr>\n",
       "</tbody>\n",
       "</table>\n"
      ],
      "text/latex": [
       "\\begin{tabular}{r|ll}\n",
       " msno & is\\_churn\\\\\n",
       "\\hline\n",
       "\t ugx0CjOMzazClkFzU2xasmDZaoIqOUAZPsH1q0teWCg= & 0                                           \\\\\n",
       "\t f/NmvEzHfhINFEYZTR05prUdr+E+3+oewvweYz9cCQE= & 0                                           \\\\\n",
       "\t zLo9f73nGGT1p21ltZC3ChiRnAVvgibMyazbCxvWPcg= & 0                                           \\\\\n",
       "\t 8iF/+8HY8lJKFrTc7iR9ZYGCG2Ecrogbc2Vy5YhsfhQ= & 0                                           \\\\\n",
       "\t K6fja4+jmoZ5xG6BypqX80Uw/XKpMgrEMdG2edFOxnA= & 0                                           \\\\\n",
       "\\end{tabular}\n"
      ],
      "text/markdown": [
       "\n",
       "msno | is_churn | \n",
       "|---|---|---|---|---|\n",
       "| ugx0CjOMzazClkFzU2xasmDZaoIqOUAZPsH1q0teWCg= | 0                                            | \n",
       "| f/NmvEzHfhINFEYZTR05prUdr+E+3+oewvweYz9cCQE= | 0                                            | \n",
       "| zLo9f73nGGT1p21ltZC3ChiRnAVvgibMyazbCxvWPcg= | 0                                            | \n",
       "| 8iF/+8HY8lJKFrTc7iR9ZYGCG2Ecrogbc2Vy5YhsfhQ= | 0                                            | \n",
       "| K6fja4+jmoZ5xG6BypqX80Uw/XKpMgrEMdG2edFOxnA= | 0                                            | \n",
       "\n",
       "\n"
      ],
      "text/plain": [
       "  msno                                         is_churn\n",
       "1 ugx0CjOMzazClkFzU2xasmDZaoIqOUAZPsH1q0teWCg= 0       \n",
       "2 f/NmvEzHfhINFEYZTR05prUdr+E+3+oewvweYz9cCQE= 0       \n",
       "3 zLo9f73nGGT1p21ltZC3ChiRnAVvgibMyazbCxvWPcg= 0       \n",
       "4 8iF/+8HY8lJKFrTc7iR9ZYGCG2Ecrogbc2Vy5YhsfhQ= 0       \n",
       "5 K6fja4+jmoZ5xG6BypqX80Uw/XKpMgrEMdG2edFOxnA= 0       "
      ]
     },
     "metadata": {},
     "output_type": "display_data"
    }
   ],
   "source": [
    "sample_submission[1:5,]"
   ]
  },
  {
   "cell_type": "code",
   "execution_count": 15,
   "metadata": {},
   "outputs": [
    {
     "data": {
      "text/html": [
       "<table>\n",
       "<thead><tr><th scope=col>msno</th><th scope=col>payment_method_id</th><th scope=col>payment_plan_days</th><th scope=col>plan_list_price</th><th scope=col>actual_amount_paid</th><th scope=col>is_auto_renew</th><th scope=col>transaction_date</th><th scope=col>membership_expire_date</th><th scope=col>is_cancel</th></tr></thead>\n",
       "<tbody>\n",
       "\t<tr><td>YyO+tlZtAXYXoZhNr3Vg3+dfVQvrBVGO8j1mfqe4ZHc=</td><td>41                                          </td><td>30                                          </td><td>129                                         </td><td>129                                         </td><td>1                                           </td><td>20150930                                    </td><td>20151101                                    </td><td>0                                           </td></tr>\n",
       "\t<tr><td>AZtu6Wl0gPojrEQYB8Q3vBSmE2wnZ3hi1FbK1rQQ0A4=</td><td>41                                          </td><td>30                                          </td><td>149                                         </td><td>149                                         </td><td>1                                           </td><td>20150930                                    </td><td>20151031                                    </td><td>0                                           </td></tr>\n",
       "\t<tr><td>UkDFI97Qb6+s2LWcijVVv4rMAsORbVDT2wNXF0aVbns=</td><td>41                                          </td><td>30                                          </td><td>129                                         </td><td>129                                         </td><td>1                                           </td><td>20150930                                    </td><td>20160427                                    </td><td>0                                           </td></tr>\n",
       "\t<tr><td>M1C56ijxozNaGD0t2h68PnH2xtx5iO5iR2MVYQB6nBI=</td><td>39                                          </td><td>30                                          </td><td>149                                         </td><td>149                                         </td><td>1                                           </td><td>20150930                                    </td><td>20151128                                    </td><td>0                                           </td></tr>\n",
       "\t<tr><td>yvj6zyBUaqdbUQSrKsrZ+xNDVM62knauSZJzakS9OW4=</td><td>39                                          </td><td>30                                          </td><td>149                                         </td><td>149                                         </td><td>1                                           </td><td>20150930                                    </td><td>20151121                                    </td><td>0                                           </td></tr>\n",
       "</tbody>\n",
       "</table>\n"
      ],
      "text/latex": [
       "\\begin{tabular}{r|lllllllll}\n",
       " msno & payment\\_method\\_id & payment\\_plan\\_days & plan\\_list\\_price & actual\\_amount\\_paid & is\\_auto\\_renew & transaction\\_date & membership\\_expire\\_date & is\\_cancel\\\\\n",
       "\\hline\n",
       "\t YyO+tlZtAXYXoZhNr3Vg3+dfVQvrBVGO8j1mfqe4ZHc= & 41                                           & 30                                           & 129                                          & 129                                          & 1                                            & 20150930                                     & 20151101                                     & 0                                           \\\\\n",
       "\t AZtu6Wl0gPojrEQYB8Q3vBSmE2wnZ3hi1FbK1rQQ0A4= & 41                                           & 30                                           & 149                                          & 149                                          & 1                                            & 20150930                                     & 20151031                                     & 0                                           \\\\\n",
       "\t UkDFI97Qb6+s2LWcijVVv4rMAsORbVDT2wNXF0aVbns= & 41                                           & 30                                           & 129                                          & 129                                          & 1                                            & 20150930                                     & 20160427                                     & 0                                           \\\\\n",
       "\t M1C56ijxozNaGD0t2h68PnH2xtx5iO5iR2MVYQB6nBI= & 39                                           & 30                                           & 149                                          & 149                                          & 1                                            & 20150930                                     & 20151128                                     & 0                                           \\\\\n",
       "\t yvj6zyBUaqdbUQSrKsrZ+xNDVM62knauSZJzakS9OW4= & 39                                           & 30                                           & 149                                          & 149                                          & 1                                            & 20150930                                     & 20151121                                     & 0                                           \\\\\n",
       "\\end{tabular}\n"
      ],
      "text/markdown": [
       "\n",
       "msno | payment_method_id | payment_plan_days | plan_list_price | actual_amount_paid | is_auto_renew | transaction_date | membership_expire_date | is_cancel | \n",
       "|---|---|---|---|---|\n",
       "| YyO+tlZtAXYXoZhNr3Vg3+dfVQvrBVGO8j1mfqe4ZHc= | 41                                           | 30                                           | 129                                          | 129                                          | 1                                            | 20150930                                     | 20151101                                     | 0                                            | \n",
       "| AZtu6Wl0gPojrEQYB8Q3vBSmE2wnZ3hi1FbK1rQQ0A4= | 41                                           | 30                                           | 149                                          | 149                                          | 1                                            | 20150930                                     | 20151031                                     | 0                                            | \n",
       "| UkDFI97Qb6+s2LWcijVVv4rMAsORbVDT2wNXF0aVbns= | 41                                           | 30                                           | 129                                          | 129                                          | 1                                            | 20150930                                     | 20160427                                     | 0                                            | \n",
       "| M1C56ijxozNaGD0t2h68PnH2xtx5iO5iR2MVYQB6nBI= | 39                                           | 30                                           | 149                                          | 149                                          | 1                                            | 20150930                                     | 20151128                                     | 0                                            | \n",
       "| yvj6zyBUaqdbUQSrKsrZ+xNDVM62knauSZJzakS9OW4= | 39                                           | 30                                           | 149                                          | 149                                          | 1                                            | 20150930                                     | 20151121                                     | 0                                            | \n",
       "\n",
       "\n"
      ],
      "text/plain": [
       "  msno                                         payment_method_id\n",
       "1 YyO+tlZtAXYXoZhNr3Vg3+dfVQvrBVGO8j1mfqe4ZHc= 41               \n",
       "2 AZtu6Wl0gPojrEQYB8Q3vBSmE2wnZ3hi1FbK1rQQ0A4= 41               \n",
       "3 UkDFI97Qb6+s2LWcijVVv4rMAsORbVDT2wNXF0aVbns= 41               \n",
       "4 M1C56ijxozNaGD0t2h68PnH2xtx5iO5iR2MVYQB6nBI= 39               \n",
       "5 yvj6zyBUaqdbUQSrKsrZ+xNDVM62knauSZJzakS9OW4= 39               \n",
       "  payment_plan_days plan_list_price actual_amount_paid is_auto_renew\n",
       "1 30                129             129                1            \n",
       "2 30                149             149                1            \n",
       "3 30                129             129                1            \n",
       "4 30                149             149                1            \n",
       "5 30                149             149                1            \n",
       "  transaction_date membership_expire_date is_cancel\n",
       "1 20150930         20151101               0        \n",
       "2 20150930         20151031               0        \n",
       "3 20150930         20160427               0        \n",
       "4 20150930         20151128               0        \n",
       "5 20150930         20151121               0        "
      ]
     },
     "metadata": {},
     "output_type": "display_data"
    }
   ],
   "source": [
    "transactions[1:5,]\n",
    "# For each user, there are several payment methods, \n",
    "# payment plans, plan list price, actual amount paid, auto renewals\n",
    "# and transaction dates"
   ]
  },
  {
   "cell_type": "code",
   "execution_count": 21,
   "metadata": {},
   "outputs": [
    {
     "name": "stderr",
     "output_type": "stream",
     "text": [
      "Warning message:\n",
      "“Column `msno` joining factors with different levels, coercing to character vector”"
     ]
    }
   ],
   "source": [
    "train_transactions <- trainset %>% \n",
    "    left_join(transactions, by = \"msno\")"
   ]
  },
  {
   "cell_type": "code",
   "execution_count": 24,
   "metadata": {},
   "outputs": [
    {
     "data": {
      "text/html": [
       "15883148"
      ],
      "text/latex": [
       "15883148"
      ],
      "text/markdown": [
       "15883148"
      ],
      "text/plain": [
       "[1] 15883148"
      ]
     },
     "metadata": {},
     "output_type": "display_data"
    }
   ],
   "source": [
    "length(train_transactions$msno)"
   ]
  },
  {
   "cell_type": "code",
   "execution_count": 25,
   "metadata": {},
   "outputs": [
    {
     "data": {
      "text/html": [
       "21547746"
      ],
      "text/latex": [
       "21547746"
      ],
      "text/markdown": [
       "21547746"
      ],
      "text/plain": [
       "[1] 21547746"
      ]
     },
     "metadata": {},
     "output_type": "display_data"
    },
    {
     "data": {
      "text/html": [
       "2363626"
      ],
      "text/latex": [
       "2363626"
      ],
      "text/markdown": [
       "2363626"
      ],
      "text/plain": [
       "[1] 2363626"
      ]
     },
     "metadata": {},
     "output_type": "display_data"
    }
   ],
   "source": [
    "length(transactions$msno)"
   ]
  },
  {
   "cell_type": "code",
   "execution_count": null,
   "metadata": {
    "collapsed": true
   },
   "outputs": [],
   "source": [
    "length(unique(transactions$msno))"
   ]
  },
  {
   "cell_type": "code",
   "execution_count": 20,
   "metadata": {},
   "outputs": [
    {
     "data": {
      "text/html": [
       "992931"
      ],
      "text/latex": [
       "992931"
      ],
      "text/markdown": [
       "992931"
      ],
      "text/plain": [
       "[1] 992931"
      ]
     },
     "metadata": {},
     "output_type": "display_data"
    }
   ],
   "source": [
    "length(trainset$msno)"
   ]
  },
  {
   "cell_type": "code",
   "execution_count": 26,
   "metadata": {},
   "outputs": [
    {
     "data": {
      "text/html": [
       "<table>\n",
       "<thead><tr><th scope=col>msno</th><th scope=col>is_churn</th><th scope=col>payment_method_id</th><th scope=col>payment_plan_days</th><th scope=col>plan_list_price</th><th scope=col>actual_amount_paid</th><th scope=col>is_auto_renew</th><th scope=col>transaction_date</th><th scope=col>membership_expire_date</th><th scope=col>is_cancel</th></tr></thead>\n",
       "<tbody>\n",
       "\t<tr><td>waLDQMmcOu2jLDaV1ddDkgCrB/jl6sD66Xzs0Vqax1Y=</td><td>1                                           </td><td>38                                          </td><td> 7                                          </td><td>  0                                         </td><td>  0                                         </td><td>0                                           </td><td>20161031                                    </td><td>20161107                                    </td><td>0                                           </td></tr>\n",
       "\t<tr><td>waLDQMmcOu2jLDaV1ddDkgCrB/jl6sD66Xzs0Vqax1Y=</td><td>1                                           </td><td>38                                          </td><td>30                                          </td><td>149                                         </td><td>149                                         </td><td>0                                           </td><td>20170107                                    </td><td>20170206                                    </td><td>0                                           </td></tr>\n",
       "\t<tr><td>QA7uiXy8vIbUSPOkCf9RwQ3FsT8jVq2OxDr8zqa7bRQ=</td><td>1                                           </td><td>39                                          </td><td>30                                          </td><td>149                                         </td><td>149                                         </td><td>1                                           </td><td>20161031                                    </td><td>20161221                                    </td><td>0                                           </td></tr>\n",
       "\t<tr><td>QA7uiXy8vIbUSPOkCf9RwQ3FsT8jVq2OxDr8zqa7bRQ=</td><td>1                                           </td><td>39                                          </td><td>30                                          </td><td>149                                         </td><td>149                                         </td><td>1                                           </td><td>20160715                                    </td><td>20160821                                    </td><td>0                                           </td></tr>\n",
       "\t<tr><td>QA7uiXy8vIbUSPOkCf9RwQ3FsT8jVq2OxDr8zqa7bRQ=</td><td>1                                           </td><td>39                                          </td><td>30                                          </td><td>149                                         </td><td>149                                         </td><td>1                                           </td><td>20160831                                    </td><td>20161021                                    </td><td>0                                           </td></tr>\n",
       "</tbody>\n",
       "</table>\n"
      ],
      "text/latex": [
       "\\begin{tabular}{r|llllllllll}\n",
       " msno & is\\_churn & payment\\_method\\_id & payment\\_plan\\_days & plan\\_list\\_price & actual\\_amount\\_paid & is\\_auto\\_renew & transaction\\_date & membership\\_expire\\_date & is\\_cancel\\\\\n",
       "\\hline\n",
       "\t waLDQMmcOu2jLDaV1ddDkgCrB/jl6sD66Xzs0Vqax1Y= & 1                                            & 38                                           &  7                                           &   0                                          &   0                                          & 0                                            & 20161031                                     & 20161107                                     & 0                                           \\\\\n",
       "\t waLDQMmcOu2jLDaV1ddDkgCrB/jl6sD66Xzs0Vqax1Y= & 1                                            & 38                                           & 30                                           & 149                                          & 149                                          & 0                                            & 20170107                                     & 20170206                                     & 0                                           \\\\\n",
       "\t QA7uiXy8vIbUSPOkCf9RwQ3FsT8jVq2OxDr8zqa7bRQ= & 1                                            & 39                                           & 30                                           & 149                                          & 149                                          & 1                                            & 20161031                                     & 20161221                                     & 0                                           \\\\\n",
       "\t QA7uiXy8vIbUSPOkCf9RwQ3FsT8jVq2OxDr8zqa7bRQ= & 1                                            & 39                                           & 30                                           & 149                                          & 149                                          & 1                                            & 20160715                                     & 20160821                                     & 0                                           \\\\\n",
       "\t QA7uiXy8vIbUSPOkCf9RwQ3FsT8jVq2OxDr8zqa7bRQ= & 1                                            & 39                                           & 30                                           & 149                                          & 149                                          & 1                                            & 20160831                                     & 20161021                                     & 0                                           \\\\\n",
       "\\end{tabular}\n"
      ],
      "text/markdown": [
       "\n",
       "msno | is_churn | payment_method_id | payment_plan_days | plan_list_price | actual_amount_paid | is_auto_renew | transaction_date | membership_expire_date | is_cancel | \n",
       "|---|---|---|---|---|\n",
       "| waLDQMmcOu2jLDaV1ddDkgCrB/jl6sD66Xzs0Vqax1Y= | 1                                            | 38                                           |  7                                           |   0                                          |   0                                          | 0                                            | 20161031                                     | 20161107                                     | 0                                            | \n",
       "| waLDQMmcOu2jLDaV1ddDkgCrB/jl6sD66Xzs0Vqax1Y= | 1                                            | 38                                           | 30                                           | 149                                          | 149                                          | 0                                            | 20170107                                     | 20170206                                     | 0                                            | \n",
       "| QA7uiXy8vIbUSPOkCf9RwQ3FsT8jVq2OxDr8zqa7bRQ= | 1                                            | 39                                           | 30                                           | 149                                          | 149                                          | 1                                            | 20161031                                     | 20161221                                     | 0                                            | \n",
       "| QA7uiXy8vIbUSPOkCf9RwQ3FsT8jVq2OxDr8zqa7bRQ= | 1                                            | 39                                           | 30                                           | 149                                          | 149                                          | 1                                            | 20160715                                     | 20160821                                     | 0                                            | \n",
       "| QA7uiXy8vIbUSPOkCf9RwQ3FsT8jVq2OxDr8zqa7bRQ= | 1                                            | 39                                           | 30                                           | 149                                          | 149                                          | 1                                            | 20160831                                     | 20161021                                     | 0                                            | \n",
       "\n",
       "\n"
      ],
      "text/plain": [
       "  msno                                         is_churn payment_method_id\n",
       "1 waLDQMmcOu2jLDaV1ddDkgCrB/jl6sD66Xzs0Vqax1Y= 1        38               \n",
       "2 waLDQMmcOu2jLDaV1ddDkgCrB/jl6sD66Xzs0Vqax1Y= 1        38               \n",
       "3 QA7uiXy8vIbUSPOkCf9RwQ3FsT8jVq2OxDr8zqa7bRQ= 1        39               \n",
       "4 QA7uiXy8vIbUSPOkCf9RwQ3FsT8jVq2OxDr8zqa7bRQ= 1        39               \n",
       "5 QA7uiXy8vIbUSPOkCf9RwQ3FsT8jVq2OxDr8zqa7bRQ= 1        39               \n",
       "  payment_plan_days plan_list_price actual_amount_paid is_auto_renew\n",
       "1  7                  0               0                0            \n",
       "2 30                149             149                0            \n",
       "3 30                149             149                1            \n",
       "4 30                149             149                1            \n",
       "5 30                149             149                1            \n",
       "  transaction_date membership_expire_date is_cancel\n",
       "1 20161031         20161107               0        \n",
       "2 20170107         20170206               0        \n",
       "3 20161031         20161221               0        \n",
       "4 20160715         20160821               0        \n",
       "5 20160831         20161021               0        "
      ]
     },
     "metadata": {},
     "output_type": "display_data"
    }
   ],
   "source": [
    "train_transactions[1:5,]"
   ]
  },
  {
   "cell_type": "code",
   "execution_count": 27,
   "metadata": {},
   "outputs": [
    {
     "ename": "ERROR",
     "evalue": "Error in library(gclus): there is no package called ‘gclus’\n",
     "output_type": "error",
     "traceback": [
      "Error in library(gclus): there is no package called ‘gclus’\nTraceback:\n",
      "1. library(gclus)",
      "2. stop(txt, domain = NA)"
     ]
    }
   ],
   "source": [
    "# Scatterplot Matrices from the glus Package\n",
    "library(gclus)\n",
    "dta <- train_transactions[c(2:10)] # get data\n",
    "dta.r <- abs(cor(dta)) # get correlations\n",
    "dta.col <- dmat.color(dta.r) # get colors\n",
    "# reorder variables so those with highest correlation\n",
    "# are closest to the diagonal\n",
    "dta.o <- order.single(dta.r)\n",
    "cpairs(dta, dta.o, panel.colors=dta.col, gap=.5,\n",
    "main=\"Variables Ordered and Colored by Correlation\" ) "
   ]
  },
  {
   "cell_type": "code",
   "execution_count": null,
   "metadata": {},
   "outputs": [],
   "source": [
    "scatterplotMatrix(~payment_plan_days+plan_list_price|is_churn, data=train_transactions[1:100,],\n",
    "   main=\"Three Cylinder Options\")"
   ]
  },
  {
   "cell_type": "code",
   "execution_count": null,
   "metadata": {
    "collapsed": true
   },
   "outputs": [],
   "source": [
    "attach(mtcars)\n",
    "plot(wt, mpg, main=\"Scatterplot Example\",\n",
    "   xlab=\"Car Weight \", ylab=\"Miles Per Gallon \", pch=19) "
   ]
  }
 ],
 "metadata": {
  "kernelspec": {
   "display_name": "R",
   "language": "R",
   "name": "ir"
  },
  "language_info": {
   "codemirror_mode": "r",
   "file_extension": ".r",
   "mimetype": "text/x-r-source",
   "name": "R",
   "pygments_lexer": "r",
   "version": "3.4.1"
  }
 },
 "nbformat": 4,
 "nbformat_minor": 2
}
